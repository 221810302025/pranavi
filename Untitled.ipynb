{
 "cells": [
  {
   "cell_type": "code",
   "execution_count": 2,
   "id": "d8b3bdec",
   "metadata": {},
   "outputs": [
    {
     "name": "stdout",
     "output_type": "stream",
     "text": [
      "Enter the desired password length: 8\n",
      "Generated password: VQB%4{(7\n"
     ]
    }
   ],
   "source": [
    "def generate_random_password(length=12):\n",
    "    password = \"\"\n",
    "    current_time = id(generate_random_password)  # Get a unique identifier for the function\n",
    "\n",
    "    for _ in range(length):\n",
    "        current_time = (current_time * 1664525 + 1013904223) & 0xFFFFFFFF\n",
    "        character = chr((current_time % 94) + 33)\n",
    "        password += character\n",
    "\n",
    "    return password\n",
    "\n",
    "def main():\n",
    "    try:\n",
    "        password_length = int(input(\"Enter the desired password length: \"))\n",
    "        if password_length <= 0:\n",
    "            print(\"Invalid input. Password length must be a positive integer.\")\n",
    "            return\n",
    "\n",
    "        password = generate_random_password(password_length)\n",
    "        print(f\"Generated password: {password}\")\n",
    "    except ValueError:\n",
    "        print(\"Invalid input. Please enter a valid integer for the password length.\")\n",
    "\n",
    "if __name__ == \"__main__\":\n",
    "    main()"
   ]
  },
  {
   "cell_type": "code",
   "execution_count": null,
   "id": "f15e0a36",
   "metadata": {},
   "outputs": [],
   "source": []
  }
 ],
 "metadata": {
  "kernelspec": {
   "display_name": "Python 3 (ipykernel)",
   "language": "python",
   "name": "python3"
  },
  "language_info": {
   "codemirror_mode": {
    "name": "ipython",
    "version": 3
   },
   "file_extension": ".py",
   "mimetype": "text/x-python",
   "name": "python",
   "nbconvert_exporter": "python",
   "pygments_lexer": "ipython3",
   "version": "3.9.7"
  }
 },
 "nbformat": 4,
 "nbformat_minor": 5
}
