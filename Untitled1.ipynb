{
 "cells": [
  {
   "cell_type": "code",
   "execution_count": 1,
   "id": "b6adea29",
   "metadata": {},
   "outputs": [
    {
     "name": "stdout",
     "output_type": "stream",
     "text": [
      "Enter the first number: 25\n",
      "Enter the second number: 56\n",
      "\n",
      "Select operation:\n",
      "1. Addition\n",
      "2. Subtraction\n",
      "3. Multiplication\n",
      "4. Division\n",
      "5. Exponentiation\n",
      "Enter your choice (1/2/3/4/5): 4\n",
      "\n",
      "Result: 0.44642857142857145\n"
     ]
    }
   ],
   "source": [
    "def add(x, y):\n",
    "    return x + y\n",
    "\n",
    "def subtract(x, y):\n",
    "    return x - y\n",
    "\n",
    "def multiply(x, y):\n",
    "    return x * y\n",
    "\n",
    "def divide(x, y):\n",
    "    if y == 0:\n",
    "        return \"Error: Cannot divide by zero\"\n",
    "    return x / y\n",
    "\n",
    "def exponentiate(x, y):\n",
    "    return x ** y\n",
    "\n",
    "def main():\n",
    "    try:\n",
    "        num1 = float(input(\"Enter the first number: \"))\n",
    "        num2 = float(input(\"Enter the second number: \"))\n",
    "\n",
    "        print(\"\\nSelect operation:\")\n",
    "        print(\"1. Addition\")\n",
    "        print(\"2. Subtraction\")\n",
    "        print(\"3. Multiplication\")\n",
    "        print(\"4. Division\")\n",
    "        print(\"5. Exponentiation\")\n",
    "\n",
    "        choice = int(input(\"Enter your choice (1/2/3/4/5): \"))\n",
    "\n",
    "        if choice == 1:\n",
    "            result = add(num1, num2)\n",
    "        elif choice == 2:\n",
    "            result = subtract(num1, num2)\n",
    "        elif choice == 3:\n",
    "            result = multiply(num1, num2)\n",
    "        elif choice == 4:\n",
    "            result = divide(num1, num2)\n",
    "        elif choice == 5:\n",
    "            result = exponentiate(num1, num2)\n",
    "        else:\n",
    "            print(\"Invalid choice\")\n",
    "            return\n",
    "\n",
    "        print(f\"\\nResult: {result}\")\n",
    "    except ValueError:\n",
    "        print(\"Invalid input. Please enter valid numeric values.\")\n",
    "\n",
    "if __name__ == \"__main__\":\n",
    "    main()"
   ]
  },
  {
   "cell_type": "code",
   "execution_count": null,
   "id": "fd960784",
   "metadata": {},
   "outputs": [],
   "source": []
  }
 ],
 "metadata": {
  "kernelspec": {
   "display_name": "Python 3 (ipykernel)",
   "language": "python",
   "name": "python3"
  },
  "language_info": {
   "codemirror_mode": {
    "name": "ipython",
    "version": 3
   },
   "file_extension": ".py",
   "mimetype": "text/x-python",
   "name": "python",
   "nbconvert_exporter": "python",
   "pygments_lexer": "ipython3",
   "version": "3.9.7"
  }
 },
 "nbformat": 4,
 "nbformat_minor": 5
}
